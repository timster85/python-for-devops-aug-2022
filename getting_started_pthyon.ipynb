{
  "nbformat": 4,
  "nbformat_minor": 0,
  "metadata": {
    "colab": {
      "name": "getting_started_pthyon.ipynb",
      "provenance": [],
      "toc_visible": true,
      "authorship_tag": "ABX9TyP46pAj77ff4eSvFB1RZiYR",
      "include_colab_link": true
    },
    "kernelspec": {
      "name": "python3",
      "display_name": "Python 3"
    },
    "language_info": {
      "name": "python"
    }
  },
  "cells": [
    {
      "cell_type": "markdown",
      "metadata": {
        "id": "view-in-github",
        "colab_type": "text"
      },
      "source": [
        "<a href=\"https://colab.research.google.com/github/tim-webster-7D/python-for-devops-aug-2022/blob/main/getting_started_pthyon.ipynb\" target=\"_parent\"><img src=\"https://colab.research.google.com/assets/colab-badge.svg\" alt=\"Open In Colab\"/></a>"
      ]
    },
    {
      "cell_type": "markdown",
      "source": [
        "## Intro into python"
      ],
      "metadata": {
        "id": "DVbtynCcbVRF"
      }
    },
    {
      "cell_type": "markdown",
      "source": [
        "### Statements in python"
      ],
      "metadata": {
        "id": "jgrfMAvrcXNN"
      }
    },
    {
      "cell_type": "code",
      "source": [
        "print('hello word')"
      ],
      "metadata": {
        "colab": {
          "base_uri": "https://localhost:8080/"
        },
        "id": "q7LSR5qfbgTz",
        "outputId": "948d096e-c4a6-4c1d-e6d0-37469ed347f3"
      },
      "execution_count": 4,
      "outputs": [
        {
          "output_type": "stream",
          "name": "stdout",
          "text": [
            "hello word\n"
          ]
        }
      ]
    },
    {
      "cell_type": "code",
      "source": [
        "name = 'bob'\n",
        "print(f'Hello my name is {name}')"
      ],
      "metadata": {
        "colab": {
          "base_uri": "https://localhost:8080/"
        },
        "id": "q9Ls0GLOchea",
        "outputId": "d12fd537-5a33-436c-ce07-a012fd8ace86"
      },
      "execution_count": 5,
      "outputs": [
        {
          "output_type": "stream",
          "name": "stdout",
          "text": [
            "Hello my name is bob\n"
          ]
        }
      ]
    },
    {
      "cell_type": "markdown",
      "source": [
        "## Datastructures: Lists and Dictionaries"
      ],
      "metadata": {
        "id": "siB6sxBkbYgY"
      }
    },
    {
      "cell_type": "markdown",
      "source": [
        "#### List"
      ],
      "metadata": {
        "id": "bolYVUKJcudn"
      }
    },
    {
      "cell_type": "code",
      "source": [
        "## List is like a bag put stuff in pull stuff out\n",
        "## Disctionary is like cart has key\n",
        "\n",
        "fruit = ['apple', 'pear', 'starberry']"
      ],
      "metadata": {
        "id": "DdlCi3E2bjvU"
      },
      "execution_count": 2,
      "outputs": []
    },
    {
      "cell_type": "code",
      "source": [
        "type(fruit)"
      ],
      "metadata": {
        "colab": {
          "base_uri": "https://localhost:8080/"
        },
        "id": "qHFTbdi2b73X",
        "outputId": "25e3e0e0-84a6-4fba-cf43-13ed9392f927"
      },
      "execution_count": 4,
      "outputs": [
        {
          "output_type": "execute_result",
          "data": {
            "text/plain": [
              "list"
            ]
          },
          "metadata": {},
          "execution_count": 4
        }
      ]
    },
    {
      "cell_type": "code",
      "source": [
        "fruit[0]"
      ],
      "metadata": {
        "colab": {
          "base_uri": "https://localhost:8080/",
          "height": 35
        },
        "id": "blLaiVkscGvR",
        "outputId": "13d62f12-6764-4712-c484-9633d0c5d5d0"
      },
      "execution_count": 5,
      "outputs": [
        {
          "output_type": "execute_result",
          "data": {
            "text/plain": [
              "'apple'"
            ],
            "application/vnd.google.colaboratory.intrinsic+json": {
              "type": "string"
            }
          },
          "metadata": {},
          "execution_count": 5
        }
      ]
    },
    {
      "cell_type": "code",
      "source": [
        "fruit[-1]\n",
        "## mainly use lists for loops"
      ],
      "metadata": {
        "colab": {
          "base_uri": "https://localhost:8080/",
          "height": 35
        },
        "id": "-OiLkKrjcMmC",
        "outputId": "f2626aab-bef4-4048-d4e7-c616438a3ffc"
      },
      "execution_count": 6,
      "outputs": [
        {
          "output_type": "execute_result",
          "data": {
            "text/plain": [
              "'starberry'"
            ],
            "application/vnd.google.colaboratory.intrinsic+json": {
              "type": "string"
            }
          },
          "metadata": {},
          "execution_count": 6
        }
      ]
    },
    {
      "cell_type": "code",
      "source": [
        "for my_fruit in fruit:\n",
        "  print(f'this is my favourite fruit: {my_fruit}')"
      ],
      "metadata": {
        "colab": {
          "base_uri": "https://localhost:8080/"
        },
        "id": "EEgz6B_HcSp_",
        "outputId": "ba1d6a01-3df1-4c3c-a80f-d63b8ea7959d"
      },
      "execution_count": 8,
      "outputs": [
        {
          "output_type": "stream",
          "name": "stdout",
          "text": [
            "this is my favourite fruit: apple\n",
            "this is my favourite fruit: pear\n",
            "this is my favourite fruit: starberry\n"
          ]
        }
      ]
    },
    {
      "cell_type": "code",
      "source": [
        "## dictioary"
      ],
      "metadata": {
        "id": "rjH7QV1KcnqT"
      },
      "execution_count": null,
      "outputs": []
    },
    {
      "cell_type": "markdown",
      "source": [
        "#### Dictionary"
      ],
      "metadata": {
        "id": "6ATo0NIlc1ip"
      }
    },
    {
      "cell_type": "code",
      "source": [
        "meal = {'breakfast': 'Coffee', 'Lunch': 'Salad', 'Dinner': 'Rice and Beans'}"
      ],
      "metadata": {
        "id": "Muf-fpijdXkA"
      },
      "execution_count": 13,
      "outputs": []
    },
    {
      "cell_type": "code",
      "source": [
        "meal.keys()"
      ],
      "metadata": {
        "colab": {
          "base_uri": "https://localhost:8080/"
        },
        "id": "Zwyztp04douT",
        "outputId": "ffa89749-9cdc-4813-f8f1-1e6706613743"
      },
      "execution_count": 11,
      "outputs": [
        {
          "output_type": "execute_result",
          "data": {
            "text/plain": [
              "dict_keys(['breakfast', 'Lunch', 'Dinner'])"
            ]
          },
          "metadata": {},
          "execution_count": 11
        }
      ]
    },
    {
      "cell_type": "code",
      "source": [
        "meal.values()"
      ],
      "metadata": {
        "colab": {
          "base_uri": "https://localhost:8080/"
        },
        "id": "aLmc5ybWeCOP",
        "outputId": "d56256f1-bde8-4ce9-b644-f08825fa93c0"
      },
      "execution_count": 14,
      "outputs": [
        {
          "output_type": "execute_result",
          "data": {
            "text/plain": [
              "dict_values(['Coffee', 'Salad', 'Rice and Beans'])"
            ]
          },
          "metadata": {},
          "execution_count": 14
        }
      ]
    },
    {
      "cell_type": "code",
      "source": [
        "for meal_name, meal_item in meal.items():\n",
        "  print(f'this meal {meal_name} is when I like to eat {meal_item}')"
      ],
      "metadata": {
        "colab": {
          "base_uri": "https://localhost:8080/"
        },
        "id": "K2fOeMPGeNlb",
        "outputId": "aac85ce5-3659-470a-a55c-538f8ca3eb91"
      },
      "execution_count": 16,
      "outputs": [
        {
          "output_type": "stream",
          "name": "stdout",
          "text": [
            "this meal breakfast is when I like to eat Coffee\n",
            "this meal Lunch is when I like to eat Salad\n",
            "this meal Dinner is when I like to eat Rice and Beans\n"
          ]
        }
      ]
    }
  ]
}